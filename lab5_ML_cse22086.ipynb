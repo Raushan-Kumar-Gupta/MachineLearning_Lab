{
  "cells": [
    {
      "cell_type": "markdown",
      "id": "06ed0425",
      "metadata": {
        "id": "06ed0425"
      },
      "source": [
        "## Lab5 - ML"
      ]
    },
    {
      "cell_type": "code",
      "source": [
        "#importing necessary modules and frameworks\n",
        "import pandas as pd\n",
        "import numpy as np\n",
        "import matplotlib.pyplot as plt\n",
        "\n",
        "#importing modules for data preprocessing\n",
        "from sklearn.preprocessing import LabelEncoder\n",
        "from sklearn.utils import resample\n",
        "from sklearn.model_selection import train_test_split\n",
        "\n",
        "#importing the models\n",
        "from sklearn.linear_model import LinearRegression"
      ],
      "metadata": {
        "id": "rSJt0Rpq6csl"
      },
      "id": "rSJt0Rpq6csl",
      "execution_count": 128,
      "outputs": []
    },
    {
      "cell_type": "code",
      "source": [
        "df = pd.read_csv(\"Android_Malware.csv\")  #reading the dataset\n",
        "df.dropna(inplace=True)  #dropping the empty rows\n",
        "df.drop(' Timestamp', axis=1, inplace=True)  #dropping the timestamp column\n",
        "df.head()"
      ],
      "metadata": {
        "colab": {
          "base_uri": "https://localhost:8080/",
          "height": 498
        },
        "id": "f_G5VMB67M8-",
        "outputId": "fb1867d3-4491-4bd5-885b-1bdaeb7b9f49"
      },
      "id": "f_G5VMB67M8-",
      "execution_count": 129,
      "outputs": [
        {
          "output_type": "stream",
          "name": "stderr",
          "text": [
            "<ipython-input-129-2975439cced4>:1: DtypeWarning: Columns (56,58,63) have mixed types. Specify dtype option on import or set low_memory=False.\n",
            "  df = pd.read_csv(\"Android_Malware.csv\")  #reading the dataset\n"
          ]
        },
        {
          "output_type": "execute_result",
          "data": {
            "text/plain": [
              "   Unnamed: 0                                Flow ID    Source IP  \\\n",
              "0           0  172.217.6.202-10.42.0.211-443-50004-6  10.42.0.211   \n",
              "1           1  172.217.6.202-10.42.0.211-443-35455-6  10.42.0.211   \n",
              "2           2  131.253.61.68-10.42.0.211-443-51775-6  10.42.0.211   \n",
              "3           3  131.253.61.68-10.42.0.211-443-51775-6  10.42.0.211   \n",
              "4           4  131.253.61.68-10.42.0.211-443-51776-6  10.42.0.211   \n",
              "\n",
              "    Source Port  Destination IP   Destination Port   Protocol   Flow Duration  \\\n",
              "0         50004   172.217.6.202              443.0        6.0           37027   \n",
              "1         35455   172.217.6.202              443.0        6.0           36653   \n",
              "2         51775   131.253.61.68              443.0        6.0          534099   \n",
              "3         51775   131.253.61.68              443.0        6.0            9309   \n",
              "4         51776   131.253.61.68              443.0        6.0        19890496   \n",
              "\n",
              "    Total Fwd Packets   Total Backward Packets  ...   min_seg_size_forward  \\\n",
              "0                   1                        1  ...                   32.0   \n",
              "1                   1                        1  ...                   32.0   \n",
              "2                   8                       12  ...                   20.0   \n",
              "3                   3                        0  ...                   20.0   \n",
              "4                   8                        6  ...                   20.0   \n",
              "\n",
              "   Active Mean   Active Std   Active Max   Active Min  Idle Mean   Idle Std  \\\n",
              "0          0.0          0.0          0.0          0.0        0.0        0.0   \n",
              "1          0.0          0.0          0.0          0.0        0.0        0.0   \n",
              "2          0.0          0.0          0.0          0.0        0.0        0.0   \n",
              "3          0.0          0.0          0.0          0.0        0.0        0.0   \n",
              "4          0.0          0.0          0.0          0.0        0.0        0.0   \n",
              "\n",
              "    Idle Max   Idle Min           Label  \n",
              "0        0.0        0.0  Android_Adware  \n",
              "1        0.0        0.0  Android_Adware  \n",
              "2        0.0        0.0  Android_Adware  \n",
              "3        0.0        0.0  Android_Adware  \n",
              "4        0.0        0.0  Android_Adware  \n",
              "\n",
              "[5 rows x 85 columns]"
            ],
            "text/html": [
              "\n",
              "  <div id=\"df-5fa65b51-14fa-485e-b06a-6f895616823b\" class=\"colab-df-container\">\n",
              "    <div>\n",
              "<style scoped>\n",
              "    .dataframe tbody tr th:only-of-type {\n",
              "        vertical-align: middle;\n",
              "    }\n",
              "\n",
              "    .dataframe tbody tr th {\n",
              "        vertical-align: top;\n",
              "    }\n",
              "\n",
              "    .dataframe thead th {\n",
              "        text-align: right;\n",
              "    }\n",
              "</style>\n",
              "<table border=\"1\" class=\"dataframe\">\n",
              "  <thead>\n",
              "    <tr style=\"text-align: right;\">\n",
              "      <th></th>\n",
              "      <th>Unnamed: 0</th>\n",
              "      <th>Flow ID</th>\n",
              "      <th>Source IP</th>\n",
              "      <th>Source Port</th>\n",
              "      <th>Destination IP</th>\n",
              "      <th>Destination Port</th>\n",
              "      <th>Protocol</th>\n",
              "      <th>Flow Duration</th>\n",
              "      <th>Total Fwd Packets</th>\n",
              "      <th>Total Backward Packets</th>\n",
              "      <th>...</th>\n",
              "      <th>min_seg_size_forward</th>\n",
              "      <th>Active Mean</th>\n",
              "      <th>Active Std</th>\n",
              "      <th>Active Max</th>\n",
              "      <th>Active Min</th>\n",
              "      <th>Idle Mean</th>\n",
              "      <th>Idle Std</th>\n",
              "      <th>Idle Max</th>\n",
              "      <th>Idle Min</th>\n",
              "      <th>Label</th>\n",
              "    </tr>\n",
              "  </thead>\n",
              "  <tbody>\n",
              "    <tr>\n",
              "      <th>0</th>\n",
              "      <td>0</td>\n",
              "      <td>172.217.6.202-10.42.0.211-443-50004-6</td>\n",
              "      <td>10.42.0.211</td>\n",
              "      <td>50004</td>\n",
              "      <td>172.217.6.202</td>\n",
              "      <td>443.0</td>\n",
              "      <td>6.0</td>\n",
              "      <td>37027</td>\n",
              "      <td>1</td>\n",
              "      <td>1</td>\n",
              "      <td>...</td>\n",
              "      <td>32.0</td>\n",
              "      <td>0.0</td>\n",
              "      <td>0.0</td>\n",
              "      <td>0.0</td>\n",
              "      <td>0.0</td>\n",
              "      <td>0.0</td>\n",
              "      <td>0.0</td>\n",
              "      <td>0.0</td>\n",
              "      <td>0.0</td>\n",
              "      <td>Android_Adware</td>\n",
              "    </tr>\n",
              "    <tr>\n",
              "      <th>1</th>\n",
              "      <td>1</td>\n",
              "      <td>172.217.6.202-10.42.0.211-443-35455-6</td>\n",
              "      <td>10.42.0.211</td>\n",
              "      <td>35455</td>\n",
              "      <td>172.217.6.202</td>\n",
              "      <td>443.0</td>\n",
              "      <td>6.0</td>\n",
              "      <td>36653</td>\n",
              "      <td>1</td>\n",
              "      <td>1</td>\n",
              "      <td>...</td>\n",
              "      <td>32.0</td>\n",
              "      <td>0.0</td>\n",
              "      <td>0.0</td>\n",
              "      <td>0.0</td>\n",
              "      <td>0.0</td>\n",
              "      <td>0.0</td>\n",
              "      <td>0.0</td>\n",
              "      <td>0.0</td>\n",
              "      <td>0.0</td>\n",
              "      <td>Android_Adware</td>\n",
              "    </tr>\n",
              "    <tr>\n",
              "      <th>2</th>\n",
              "      <td>2</td>\n",
              "      <td>131.253.61.68-10.42.0.211-443-51775-6</td>\n",
              "      <td>10.42.0.211</td>\n",
              "      <td>51775</td>\n",
              "      <td>131.253.61.68</td>\n",
              "      <td>443.0</td>\n",
              "      <td>6.0</td>\n",
              "      <td>534099</td>\n",
              "      <td>8</td>\n",
              "      <td>12</td>\n",
              "      <td>...</td>\n",
              "      <td>20.0</td>\n",
              "      <td>0.0</td>\n",
              "      <td>0.0</td>\n",
              "      <td>0.0</td>\n",
              "      <td>0.0</td>\n",
              "      <td>0.0</td>\n",
              "      <td>0.0</td>\n",
              "      <td>0.0</td>\n",
              "      <td>0.0</td>\n",
              "      <td>Android_Adware</td>\n",
              "    </tr>\n",
              "    <tr>\n",
              "      <th>3</th>\n",
              "      <td>3</td>\n",
              "      <td>131.253.61.68-10.42.0.211-443-51775-6</td>\n",
              "      <td>10.42.0.211</td>\n",
              "      <td>51775</td>\n",
              "      <td>131.253.61.68</td>\n",
              "      <td>443.0</td>\n",
              "      <td>6.0</td>\n",
              "      <td>9309</td>\n",
              "      <td>3</td>\n",
              "      <td>0</td>\n",
              "      <td>...</td>\n",
              "      <td>20.0</td>\n",
              "      <td>0.0</td>\n",
              "      <td>0.0</td>\n",
              "      <td>0.0</td>\n",
              "      <td>0.0</td>\n",
              "      <td>0.0</td>\n",
              "      <td>0.0</td>\n",
              "      <td>0.0</td>\n",
              "      <td>0.0</td>\n",
              "      <td>Android_Adware</td>\n",
              "    </tr>\n",
              "    <tr>\n",
              "      <th>4</th>\n",
              "      <td>4</td>\n",
              "      <td>131.253.61.68-10.42.0.211-443-51776-6</td>\n",
              "      <td>10.42.0.211</td>\n",
              "      <td>51776</td>\n",
              "      <td>131.253.61.68</td>\n",
              "      <td>443.0</td>\n",
              "      <td>6.0</td>\n",
              "      <td>19890496</td>\n",
              "      <td>8</td>\n",
              "      <td>6</td>\n",
              "      <td>...</td>\n",
              "      <td>20.0</td>\n",
              "      <td>0.0</td>\n",
              "      <td>0.0</td>\n",
              "      <td>0.0</td>\n",
              "      <td>0.0</td>\n",
              "      <td>0.0</td>\n",
              "      <td>0.0</td>\n",
              "      <td>0.0</td>\n",
              "      <td>0.0</td>\n",
              "      <td>Android_Adware</td>\n",
              "    </tr>\n",
              "  </tbody>\n",
              "</table>\n",
              "<p>5 rows × 85 columns</p>\n",
              "</div>\n",
              "    <div class=\"colab-df-buttons\">\n",
              "\n",
              "  <div class=\"colab-df-container\">\n",
              "    <button class=\"colab-df-convert\" onclick=\"convertToInteractive('df-5fa65b51-14fa-485e-b06a-6f895616823b')\"\n",
              "            title=\"Convert this dataframe to an interactive table.\"\n",
              "            style=\"display:none;\">\n",
              "\n",
              "  <svg xmlns=\"http://www.w3.org/2000/svg\" height=\"24px\" viewBox=\"0 -960 960 960\">\n",
              "    <path d=\"M120-120v-720h720v720H120Zm60-500h600v-160H180v160Zm220 220h160v-160H400v160Zm0 220h160v-160H400v160ZM180-400h160v-160H180v160Zm440 0h160v-160H620v160ZM180-180h160v-160H180v160Zm440 0h160v-160H620v160Z\"/>\n",
              "  </svg>\n",
              "    </button>\n",
              "\n",
              "  <style>\n",
              "    .colab-df-container {\n",
              "      display:flex;\n",
              "      gap: 12px;\n",
              "    }\n",
              "\n",
              "    .colab-df-convert {\n",
              "      background-color: #E8F0FE;\n",
              "      border: none;\n",
              "      border-radius: 50%;\n",
              "      cursor: pointer;\n",
              "      display: none;\n",
              "      fill: #1967D2;\n",
              "      height: 32px;\n",
              "      padding: 0 0 0 0;\n",
              "      width: 32px;\n",
              "    }\n",
              "\n",
              "    .colab-df-convert:hover {\n",
              "      background-color: #E2EBFA;\n",
              "      box-shadow: 0px 1px 2px rgba(60, 64, 67, 0.3), 0px 1px 3px 1px rgba(60, 64, 67, 0.15);\n",
              "      fill: #174EA6;\n",
              "    }\n",
              "\n",
              "    .colab-df-buttons div {\n",
              "      margin-bottom: 4px;\n",
              "    }\n",
              "\n",
              "    [theme=dark] .colab-df-convert {\n",
              "      background-color: #3B4455;\n",
              "      fill: #D2E3FC;\n",
              "    }\n",
              "\n",
              "    [theme=dark] .colab-df-convert:hover {\n",
              "      background-color: #434B5C;\n",
              "      box-shadow: 0px 1px 3px 1px rgba(0, 0, 0, 0.15);\n",
              "      filter: drop-shadow(0px 1px 2px rgba(0, 0, 0, 0.3));\n",
              "      fill: #FFFFFF;\n",
              "    }\n",
              "  </style>\n",
              "\n",
              "    <script>\n",
              "      const buttonEl =\n",
              "        document.querySelector('#df-5fa65b51-14fa-485e-b06a-6f895616823b button.colab-df-convert');\n",
              "      buttonEl.style.display =\n",
              "        google.colab.kernel.accessAllowed ? 'block' : 'none';\n",
              "\n",
              "      async function convertToInteractive(key) {\n",
              "        const element = document.querySelector('#df-5fa65b51-14fa-485e-b06a-6f895616823b');\n",
              "        const dataTable =\n",
              "          await google.colab.kernel.invokeFunction('convertToInteractive',\n",
              "                                                    [key], {});\n",
              "        if (!dataTable) return;\n",
              "\n",
              "        const docLinkHtml = 'Like what you see? Visit the ' +\n",
              "          '<a target=\"_blank\" href=https://colab.research.google.com/notebooks/data_table.ipynb>data table notebook</a>'\n",
              "          + ' to learn more about interactive tables.';\n",
              "        element.innerHTML = '';\n",
              "        dataTable['output_type'] = 'display_data';\n",
              "        await google.colab.output.renderOutput(dataTable, element);\n",
              "        const docLink = document.createElement('div');\n",
              "        docLink.innerHTML = docLinkHtml;\n",
              "        element.appendChild(docLink);\n",
              "      }\n",
              "    </script>\n",
              "  </div>\n",
              "\n",
              "\n",
              "<div id=\"df-98dd91e4-48f7-4bae-8522-5622bac451a2\">\n",
              "  <button class=\"colab-df-quickchart\" onclick=\"quickchart('df-98dd91e4-48f7-4bae-8522-5622bac451a2')\"\n",
              "            title=\"Suggest charts\"\n",
              "            style=\"display:none;\">\n",
              "\n",
              "<svg xmlns=\"http://www.w3.org/2000/svg\" height=\"24px\"viewBox=\"0 0 24 24\"\n",
              "     width=\"24px\">\n",
              "    <g>\n",
              "        <path d=\"M19 3H5c-1.1 0-2 .9-2 2v14c0 1.1.9 2 2 2h14c1.1 0 2-.9 2-2V5c0-1.1-.9-2-2-2zM9 17H7v-7h2v7zm4 0h-2V7h2v10zm4 0h-2v-4h2v4z\"/>\n",
              "    </g>\n",
              "</svg>\n",
              "  </button>\n",
              "\n",
              "<style>\n",
              "  .colab-df-quickchart {\n",
              "      --bg-color: #E8F0FE;\n",
              "      --fill-color: #1967D2;\n",
              "      --hover-bg-color: #E2EBFA;\n",
              "      --hover-fill-color: #174EA6;\n",
              "      --disabled-fill-color: #AAA;\n",
              "      --disabled-bg-color: #DDD;\n",
              "  }\n",
              "\n",
              "  [theme=dark] .colab-df-quickchart {\n",
              "      --bg-color: #3B4455;\n",
              "      --fill-color: #D2E3FC;\n",
              "      --hover-bg-color: #434B5C;\n",
              "      --hover-fill-color: #FFFFFF;\n",
              "      --disabled-bg-color: #3B4455;\n",
              "      --disabled-fill-color: #666;\n",
              "  }\n",
              "\n",
              "  .colab-df-quickchart {\n",
              "    background-color: var(--bg-color);\n",
              "    border: none;\n",
              "    border-radius: 50%;\n",
              "    cursor: pointer;\n",
              "    display: none;\n",
              "    fill: var(--fill-color);\n",
              "    height: 32px;\n",
              "    padding: 0;\n",
              "    width: 32px;\n",
              "  }\n",
              "\n",
              "  .colab-df-quickchart:hover {\n",
              "    background-color: var(--hover-bg-color);\n",
              "    box-shadow: 0 1px 2px rgba(60, 64, 67, 0.3), 0 1px 3px 1px rgba(60, 64, 67, 0.15);\n",
              "    fill: var(--button-hover-fill-color);\n",
              "  }\n",
              "\n",
              "  .colab-df-quickchart-complete:disabled,\n",
              "  .colab-df-quickchart-complete:disabled:hover {\n",
              "    background-color: var(--disabled-bg-color);\n",
              "    fill: var(--disabled-fill-color);\n",
              "    box-shadow: none;\n",
              "  }\n",
              "\n",
              "  .colab-df-spinner {\n",
              "    border: 2px solid var(--fill-color);\n",
              "    border-color: transparent;\n",
              "    border-bottom-color: var(--fill-color);\n",
              "    animation:\n",
              "      spin 1s steps(1) infinite;\n",
              "  }\n",
              "\n",
              "  @keyframes spin {\n",
              "    0% {\n",
              "      border-color: transparent;\n",
              "      border-bottom-color: var(--fill-color);\n",
              "      border-left-color: var(--fill-color);\n",
              "    }\n",
              "    20% {\n",
              "      border-color: transparent;\n",
              "      border-left-color: var(--fill-color);\n",
              "      border-top-color: var(--fill-color);\n",
              "    }\n",
              "    30% {\n",
              "      border-color: transparent;\n",
              "      border-left-color: var(--fill-color);\n",
              "      border-top-color: var(--fill-color);\n",
              "      border-right-color: var(--fill-color);\n",
              "    }\n",
              "    40% {\n",
              "      border-color: transparent;\n",
              "      border-right-color: var(--fill-color);\n",
              "      border-top-color: var(--fill-color);\n",
              "    }\n",
              "    60% {\n",
              "      border-color: transparent;\n",
              "      border-right-color: var(--fill-color);\n",
              "    }\n",
              "    80% {\n",
              "      border-color: transparent;\n",
              "      border-right-color: var(--fill-color);\n",
              "      border-bottom-color: var(--fill-color);\n",
              "    }\n",
              "    90% {\n",
              "      border-color: transparent;\n",
              "      border-bottom-color: var(--fill-color);\n",
              "    }\n",
              "  }\n",
              "</style>\n",
              "\n",
              "  <script>\n",
              "    async function quickchart(key) {\n",
              "      const quickchartButtonEl =\n",
              "        document.querySelector('#' + key + ' button');\n",
              "      quickchartButtonEl.disabled = true;  // To prevent multiple clicks.\n",
              "      quickchartButtonEl.classList.add('colab-df-spinner');\n",
              "      try {\n",
              "        const charts = await google.colab.kernel.invokeFunction(\n",
              "            'suggestCharts', [key], {});\n",
              "      } catch (error) {\n",
              "        console.error('Error during call to suggestCharts:', error);\n",
              "      }\n",
              "      quickchartButtonEl.classList.remove('colab-df-spinner');\n",
              "      quickchartButtonEl.classList.add('colab-df-quickchart-complete');\n",
              "    }\n",
              "    (() => {\n",
              "      let quickchartButtonEl =\n",
              "        document.querySelector('#df-98dd91e4-48f7-4bae-8522-5622bac451a2 button');\n",
              "      quickchartButtonEl.style.display =\n",
              "        google.colab.kernel.accessAllowed ? 'block' : 'none';\n",
              "    })();\n",
              "  </script>\n",
              "</div>\n",
              "\n",
              "    </div>\n",
              "  </div>\n"
            ],
            "application/vnd.google.colaboratory.intrinsic+json": {
              "type": "dataframe",
              "variable_name": "df"
            }
          },
          "metadata": {},
          "execution_count": 129
        }
      ]
    },
    {
      "cell_type": "markdown",
      "source": [
        "# Question A1"
      ],
      "metadata": {
        "id": "0NHreSGke-oR"
      },
      "id": "0NHreSGke-oR"
    },
    {
      "cell_type": "code",
      "source": [
        "#function to encode the non-numerical columns to numerics using LabelEncoder\n",
        "def labelencoder(df):\n",
        "    for c in df.columns:\n",
        "        if df[c].dtype == 'object':\n",
        "            df[c] = df[c].fillna('N') #filling empty cells in dataframe\n",
        "            lbl = LabelEncoder()\n",
        "            lbl.fit(list(df[c].values))\n",
        "            df[c] = lbl.transform(df[c].values)  #encoding\n",
        "    return df"
      ],
      "metadata": {
        "id": "gjTd2vy97v_6"
      },
      "id": "gjTd2vy97v_6",
      "execution_count": 130,
      "outputs": []
    },
    {
      "cell_type": "code",
      "source": [
        "from math import ceil\n",
        "\n",
        "#balancing the unbalanced data so that they have equal amount of each label type\n",
        "def balance_data(data, random_state=0):\n",
        "    X = data.drop(\"Label\", axis=1)\n",
        "    y = data[\"Label\"]\n",
        "    class_counts = y.value_counts()  #counting the number of classes in labels of dataset\n",
        "    minority_class_count = ceil(class_counts.min() / 5) #setting so that the row size is reduced  to 1/5th of the original minimum\n",
        "    balanced_data = pd.DataFrame(columns=data.columns)  #making an empty dataframe\n",
        "\n",
        "    for label in class_counts.index:\n",
        "        class_samples = data[data[\"Label\"] == label]\n",
        "        resampled_samples = resample(class_samples,\n",
        "                                     replace=True,\n",
        "                                     n_samples=minority_class_count,\n",
        "                                     random_state=random_state)   #resampling dataset to make so that it has only min_count rows of each type\n",
        "        balanced_data = pd.concat([balanced_data, resampled_samples])\n",
        "\n",
        "    balanced_data = balanced_data.sample(frac=1, random_state=random_state)\n",
        "\n",
        "    return balanced_data"
      ],
      "metadata": {
        "id": "j2qG0waM8J8k"
      },
      "id": "j2qG0waM8J8k",
      "execution_count": 131,
      "outputs": []
    },
    {
      "cell_type": "code",
      "source": [
        "# splitting the dataset into train and test data\n",
        "def splitData(df):\n",
        "  X = np.array(df['Total Length of Fwd Packets']).reshape(-1,1)  #chosing only one column of dataset as x\n",
        "  y = np.array(df['Label']).reshape(-1,1)  #choosing the label target as y\n",
        "\n",
        "  X_train, X_test, y_train, y_test = train_test_split(X, y, test_size=0.3, random_state=42)\n",
        "  return X_train, X_test, y_train, y_test"
      ],
      "metadata": {
        "id": "bXVzlKga9rcX"
      },
      "id": "bXVzlKga9rcX",
      "execution_count": 132,
      "outputs": []
    },
    {
      "cell_type": "markdown",
      "source": [
        "# Question A2"
      ],
      "metadata": {
        "id": "dlPQX4RkfNyf"
      },
      "id": "dlPQX4RkfNyf"
    },
    {
      "cell_type": "code",
      "source": [
        "from sklearn.metrics import mean_absolute_error,mean_squared_error\n",
        "\n",
        "# a function to return errors\n",
        "def find_error(y_test, y_pred):\n",
        "  mae = mean_absolute_error(y_true=y_test,y_pred=y_pred)\n",
        "  #squared True returns MSE value, False returns RMSE value.\n",
        "  mse = mean_squared_error(y_true=y_test,y_pred=y_pred) #default=True\n",
        "  rmse = mean_squared_error(y_true=y_test,y_pred=y_pred,squared=False)\n",
        "\n",
        "  #printing errors\n",
        "  print(\"MAE:\",mae)\n",
        "  print(\"MSE:\",mse)\n",
        "  print(\"RMSE:\",rmse)"
      ],
      "metadata": {
        "id": "pBDHCiGLBoef"
      },
      "id": "pBDHCiGLBoef",
      "execution_count": 133,
      "outputs": []
    },
    {
      "cell_type": "code",
      "source": [
        "def linearRegression(df):\n",
        "  df = labelencoder(df)  #encoding the dataqframe\n",
        "  df = balance_data(df)  #balancing dataset to have equal classes\n",
        "\n",
        "  X_train, X_test, y_train, y_test = splitData(df)  #splitting dataset into train and test data\n",
        "\n",
        "  regressor = LinearRegression()  #creating a linear regression object\n",
        "\n",
        "  regressor.fit(X_train, y_train)  #training the model\n",
        "\n",
        "  y_pred = regressor.predict(X_train)  #predicting the values\n",
        "\n",
        "  #plotting the graph\n",
        "  plt.scatter(X_train, y_train, color ='b')\n",
        "  plt.plot(X_train, y_pred, color ='k')\n",
        "\n",
        "  plt.show()\n",
        "\n",
        "  print(\"regressor_score: \", regressor.score(X_train, y_train))  #printing the score\n",
        "\n",
        "  find_error(y_train, y_pred)  #printing the errors"
      ],
      "metadata": {
        "id": "WDcDfMAn-NrX"
      },
      "id": "WDcDfMAn-NrX",
      "execution_count": 134,
      "outputs": []
    },
    {
      "cell_type": "code",
      "source": [
        "linearRegression(df) #calling the linear regression function on dataframe"
      ],
      "metadata": {
        "colab": {
          "base_uri": "https://localhost:8080/",
          "height": 572
        },
        "id": "yVKMQyIOCwrp",
        "outputId": "b1abc806-0a62-49f4-dd12-cc11ac21d009"
      },
      "id": "yVKMQyIOCwrp",
      "execution_count": 135,
      "outputs": [
        {
          "output_type": "stream",
          "name": "stderr",
          "text": [
            "<ipython-input-131-50b583461c86>:17: FutureWarning: The behavior of DataFrame concatenation with empty or all-NA entries is deprecated. In a future version, this will no longer exclude empty or all-NA columns when determining the result dtypes. To retain the old behavior, exclude the relevant entries before the concat operation.\n",
            "  balanced_data = pd.concat([balanced_data, resampled_samples])\n"
          ]
        },
        {
          "output_type": "display_data",
          "data": {
            "text/plain": [
              "<Figure size 640x480 with 1 Axes>"
            ],
            "image/png": "[encoded data removed]"
          },
          "metadata": {}
        },
        {
          "output_type": "stream",
          "name": "stdout",
          "text": [
            "regressor_score:  1.9139412529733946e-05\n",
            "MAE: 0.9961198377651084\n",
            "MSE: 1.242368069999985\n",
            "RMSE: 1.1146156602165542\n"
          ]
        }
      ]
    },
    {
      "cell_type": "markdown",
      "source": [
        "# Question A2"
      ],
      "metadata": {
        "id": "tvG7SSGnfVAg"
      },
      "id": "tvG7SSGnfVAg"
    },
    {
      "cell_type": "code",
      "source": [
        "def linearRegression_a2(df):\n",
        "  df = labelencoder(df)  #encoding the dataframe\n",
        "  df = balance_data(df)  #balancing the dataframe\n",
        "\n",
        "  X_train, X_test, y_train, y_test = splitData(df)  #splitting the dataframe into train and test data\n",
        "\n",
        "  regressor = LinearRegression()  #creating a linear regression object\n",
        "\n",
        "  regressor.fit(X_train, y_train)  #training the model\n",
        "\n",
        "  y_pred = regressor.predict(X_test) #predicting the result\n",
        "\n",
        "  #plotting the graph\n",
        "  plt.scatter(X_test, y_test, color ='b')\n",
        "  plt.plot(X_test, y_pred, color ='k')\n",
        "\n",
        "  plt.show()\n",
        "\n",
        "  print(\"regressor_score: \", regressor.score(X_test, y_test))  #printing the score\n",
        "\n",
        "  find_error(y_test, y_pred)  #printing the errors"
      ],
      "metadata": {
        "id": "Cx8UJ5RxEByi"
      },
      "id": "Cx8UJ5RxEByi",
      "execution_count": 136,
      "outputs": []
    },
    {
      "cell_type": "code",
      "source": [
        "linearRegression_a2(df) #calling the linear regression function on dataframe"
      ],
      "metadata": {
        "colab": {
          "base_uri": "https://localhost:8080/",
          "height": 554
        },
        "id": "wX2ddXXhFuJJ",
        "outputId": "9b4b6b11-72e0-43e1-f142-ed98a64de344"
      },
      "id": "wX2ddXXhFuJJ",
      "execution_count": 137,
      "outputs": [
        {
          "output_type": "stream",
          "name": "stderr",
          "text": [
            "<ipython-input-131-50b583461c86>:17: FutureWarning: The behavior of DataFrame concatenation with empty or all-NA entries is deprecated. In a future version, this will no longer exclude empty or all-NA columns when determining the result dtypes. To retain the old behavior, exclude the relevant entries before the concat operation.\n",
            "  balanced_data = pd.concat([balanced_data, resampled_samples])\n"
          ]
        },
        {
          "output_type": "display_data",
          "data": {
            "text/plain": [
              "<Figure size 640x480 with 1 Axes>"
            ],
            "image/png": "[encoded data removed]"
          },
          "metadata": {}
        },
        {
          "output_type": "stream",
          "name": "stdout",
          "text": [
            "regressor_score:  -0.0013187950857467268\n",
            "MAE: 1.0089689843658285\n",
            "MSE: 1.2682408468302513\n",
            "RMSE: 1.1261619984843438\n"
          ]
        }
      ]
    },
    {
      "cell_type": "markdown",
      "source": [
        "# Question A3"
      ],
      "metadata": {
        "id": "-2Wr5WJbfY28"
      },
      "id": "-2Wr5WJbfY28"
    },
    {
      "cell_type": "code",
      "source": [
        "#function to split dataframe into train and test data\n",
        "def splitData_a3(df):\n",
        "  X = df[['Total Length of Fwd Packets', ' Total Length of Bwd Packets', ' Total Fwd Packets', ' Total Backward Packets', ' Fwd Header Length', ' Bwd Header Length']]\n",
        "  y = df['Label']\n",
        "\n",
        "  X_train, X_test, y_train, y_test = train_test_split(X, y, test_size=0.3, random_state=42)\n",
        "  return X_train, X_test, y_train, y_test"
      ],
      "metadata": {
        "id": "rm3CjiGtFxJK"
      },
      "id": "rm3CjiGtFxJK",
      "execution_count": 138,
      "outputs": []
    },
    {
      "cell_type": "code",
      "source": [
        "def linearRegression_a3(df):\n",
        "  df = labelencoder(df)  #encoding the dataframe\n",
        "  df = balance_data(df)  #balancing the dataframe\n",
        "\n",
        "  X_train, X_test, y_train, y_test = splitData_a3(df)  #splitting the dataframe into train and test data\n",
        "\n",
        "  regressor = LinearRegression()  #creating a linear regression object\n",
        "\n",
        "  regressor.fit(X_train, y_train)  #training the model\n",
        "\n",
        "  y_pred = regressor.predict(X_test)  #predicting the result\n",
        "\n",
        "  print(\"regressor_score: \", regressor.score(X_test, y_test))  #printing the score\n",
        "\n",
        "  find_error(y_test, y_pred)  #printing the errors"
      ],
      "metadata": {
        "id": "zQ59zN3bGlrS"
      },
      "id": "zQ59zN3bGlrS",
      "execution_count": 139,
      "outputs": []
    },
    {
      "cell_type": "code",
      "source": [
        "linearRegression_a3(df) #calling the linear regression function on dataframe"
      ],
      "metadata": {
        "colab": {
          "base_uri": "https://localhost:8080/"
        },
        "id": "ayHmudalG17_",
        "outputId": "1d2f974a-0e2a-4e0f-ba45-f06dd0ba8f63"
      },
      "id": "ayHmudalG17_",
      "execution_count": 140,
      "outputs": [
        {
          "output_type": "stream",
          "name": "stderr",
          "text": [
            "<ipython-input-131-50b583461c86>:17: FutureWarning: The behavior of DataFrame concatenation with empty or all-NA entries is deprecated. In a future version, this will no longer exclude empty or all-NA columns when determining the result dtypes. To retain the old behavior, exclude the relevant entries before the concat operation.\n",
            "  balanced_data = pd.concat([balanced_data, resampled_samples])\n"
          ]
        },
        {
          "output_type": "stream",
          "name": "stdout",
          "text": [
            "regressor_score:  -0.0026769846879011183\n",
            "MAE: 1.0089456740667948\n",
            "MSE: 1.269961089713583\n",
            "RMSE: 1.1269255031782637\n"
          ]
        }
      ]
    },
    {
      "cell_type": "markdown",
      "source": [
        "# Question A4"
      ],
      "metadata": {
        "id": "jxoTz5jsfc-Q"
      },
      "id": "jxoTz5jsfc-Q"
    },
    {
      "cell_type": "code",
      "source": [
        "from sklearn.cluster import KMeans\n",
        "\n",
        "#a function to perform kMeans clustering on the dataset into given number of clusters\n",
        "def K_means_cluster(df, no_of_clusters):\n",
        "  kmeans = KMeans(n_clusters=no_of_clusters, random_state=0, n_init=\"auto\").fit(df)  #creating a kmeans object and fitting the data\n",
        "  return kmeans"
      ],
      "metadata": {
        "id": "JbaVPZh0G7jF"
      },
      "id": "JbaVPZh0G7jF",
      "execution_count": 141,
      "outputs": []
    },
    {
      "cell_type": "code",
      "source": [
        "# a function to print the cluster labels and centers of a given kmeans cluster\n",
        "def print_kmeans(kmeans):\n",
        "  print(kmeans.labels_)\n",
        "  print(kmeans.cluster_centers_)"
      ],
      "metadata": {
        "id": "m_v7aaW4Mfrn"
      },
      "id": "m_v7aaW4Mfrn",
      "execution_count": 142,
      "outputs": []
    },
    {
      "cell_type": "code",
      "source": [
        "df_balanced = balance_data(df)  #balancing the dataset\n",
        "X_train, X_test, y_train, y_test = splitData(df_balanced)  #splitting the dataset into train and test data\n",
        "\n",
        "kmeans = K_means_cluster(X_train, 2)  #calling the kmeans function on train data\n",
        "print_kmeans(kmeans)  #printing the cluster labels and centers"
      ],
      "metadata": {
        "colab": {
          "base_uri": "https://localhost:8080/"
        },
        "id": "Rf-_7detKFc5",
        "outputId": "f3e6e803-0185-4746-fd83-7d30a5471ad3"
      },
      "id": "Rf-_7detKFc5",
      "execution_count": 143,
      "outputs": [
        {
          "output_type": "stream",
          "name": "stdout",
          "text": [
            "[0 0 0 ... 0 0 0]\n",
            "[[5.92158331e+02]\n",
            " [9.04378100e+06]]\n"
          ]
        },
        {
          "output_type": "stream",
          "name": "stderr",
          "text": [
            "<ipython-input-131-50b583461c86>:17: FutureWarning: The behavior of DataFrame concatenation with empty or all-NA entries is deprecated. In a future version, this will no longer exclude empty or all-NA columns when determining the result dtypes. To retain the old behavior, exclude the relevant entries before the concat operation.\n",
            "  balanced_data = pd.concat([balanced_data, resampled_samples])\n"
          ]
        }
      ]
    },
    {
      "cell_type": "markdown",
      "source": [
        "#Question A5"
      ],
      "metadata": {
        "id": "H-rWhbbefkII"
      },
      "id": "H-rWhbbefkII"
    },
    {
      "cell_type": "code",
      "source": [
        "from sklearn.metrics import silhouette_score\n",
        "from sklearn.metrics import calinski_harabasz_score\n",
        "from sklearn.metrics import davies_bouldin_score\n",
        "\n",
        "# a function to calculate silhouette_score, calinski_harabasz_score, davies_bouldin_score and printing them\n",
        "def cluster_metrics(df, no_of_clusters):\n",
        "  kmeans = K_means_cluster(df, no_of_clusters)  #calling the kmeans function on train data\n",
        "\n",
        "  #calculating the metrics\n",
        "  sil_score = silhouette_score(df, kmeans.labels_)\n",
        "  calinski_score = calinski_harabasz_score(df, kmeans.labels_)\n",
        "  davies_score = davies_bouldin_score(df, kmeans.labels_)\n",
        "\n",
        "  #printing the scores\n",
        "  print(\"silhouette_score: \", sil_score)\n",
        "  print(\"calinski_harabasz_score: \", calinski_score)\n",
        "  print(\"davies_bouldin_score: \", davies_score)\n",
        "\n",
        "  return sil_score, calinski_score, davies_score"
      ],
      "metadata": {
        "id": "NsBhNZE9KXTJ"
      },
      "id": "NsBhNZE9KXTJ",
      "execution_count": 144,
      "outputs": []
    },
    {
      "cell_type": "code",
      "source": [
        "cluster_metrics(X_train, 2)  #calling the cluster_metrics function on train data"
      ],
      "metadata": {
        "colab": {
          "base_uri": "https://localhost:8080/"
        },
        "id": "0vbHDC5cLW96",
        "outputId": "128304e1-54f9-4be5-8a66-e3a3cb0443d0"
      },
      "id": "0vbHDC5cLW96",
      "execution_count": 145,
      "outputs": [
        {
          "output_type": "stream",
          "name": "stdout",
          "text": [
            "silhouette_score:  0.9998126162695493\n",
            "calinski_harabasz_score:  13324723.709913103\n",
            "davies_bouldin_score:  9.16346310158469e-05\n"
          ]
        },
        {
          "output_type": "execute_result",
          "data": {
            "text/plain": [
              "(0.9998126162695493, 13324723.709913103, 9.16346310158469e-05)"
            ]
          },
          "metadata": {},
          "execution_count": 145
        }
      ]
    },
    {
      "cell_type": "markdown",
      "source": [
        "#Question A6"
      ],
      "metadata": {
        "id": "E9g7jrCZfnl8"
      },
      "id": "E9g7jrCZfnl8"
    },
    {
      "cell_type": "code",
      "source": [
        "\n",
        "#making list of different scores for different numbers of clusters\n",
        "sil_scores = []\n",
        "calinski_scores = []\n",
        "davies_scores = []\n",
        "\n",
        "# Loop through different k values and calculate the metrics\n",
        "for i in range(2, 20):\n",
        "  print(\"k: \", i)\n",
        "  sil_score, calinski_score, davies_score = cluster_metrics(X_train, i)  #calling the cluster_metrics function on train data\n",
        "  sil_scores.append(sil_score)\n",
        "  calinski_scores.append(calinski_score)\n",
        "  davies_scores.append(davies_score)\n",
        "  print()\n",
        "\n",
        "plt.figure(figsize=(12, 6))\n",
        "k_values = range(2, 20)\n",
        "\n",
        "# Silhouette Score plot\n",
        "plt.subplot(1, 3, 1)\n",
        "plt.plot(k_values, sil_scores, marker='o')\n",
        "plt.title('Silhouette Score vs k')\n",
        "plt.xlabel('Number of clusters (k)')\n",
        "plt.ylabel('Silhouette Score')\n",
        "\n",
        "# Calinski-Harabasz Score plot\n",
        "plt.subplot(1, 3, 2)\n",
        "plt.plot(k_values, calinski_scores, marker='o')\n",
        "plt.title('Calinski-Harabasz Score vs k')\n",
        "plt.xlabel('Number of clusters (k)')\n",
        "plt.ylabel('Calinski-Harabasz Score')\n",
        "\n",
        "# Davies-Bouldin Score plot\n",
        "plt.subplot(1, 3, 3)\n",
        "plt.plot(k_values, davies_scores, marker='o')\n",
        "plt.title('Davies-Bouldin Score vs k')\n",
        "plt.xlabel('Number of clusters (k)')\n",
        "plt.ylabel('Davies-Bouldin Score')\n",
        "\n",
        "plt.tight_layout()\n",
        "plt.show()"
      ],
      "metadata": {
        "colab": {
          "base_uri": "https://localhost:8080/",
          "height": 1000
        },
        "id": "vffw3oxvLcxv",
        "outputId": "fa0aa66b-1cdd-49af-f386-101833945aad"
      },
      "id": "vffw3oxvLcxv",
      "execution_count": 149,
      "outputs": [
        {
          "output_type": "stream",
          "name": "stdout",
          "text": [
            "k:  2\n",
            "silhouette_score:  0.9998126162695493\n",
            "calinski_harabasz_score:  13324723.709913103\n",
            "davies_bouldin_score:  9.16346310158469e-05\n",
            "\n",
            "k:  3\n",
            "silhouette_score:  0.9734667147920263\n",
            "calinski_harabasz_score:  13513273.470673533\n",
            "davies_bouldin_score:  0.31357424420227725\n",
            "\n",
            "k:  4\n",
            "silhouette_score:  0.9113197939659092\n",
            "calinski_harabasz_score:  15644139.232593853\n",
            "davies_bouldin_score:  0.39181928406619626\n",
            "\n",
            "k:  5\n",
            "silhouette_score:  0.8723237478308773\n",
            "calinski_harabasz_score:  25642218.123402018\n",
            "davies_bouldin_score:  0.33514608282135144\n",
            "\n",
            "k:  6\n",
            "silhouette_score:  0.8249488461353415\n",
            "calinski_harabasz_score:  32071865.672742113\n",
            "davies_bouldin_score:  0.3809070414089752\n",
            "\n",
            "k:  7\n",
            "silhouette_score:  0.8275848830606795\n",
            "calinski_harabasz_score:  38123006.70336359\n",
            "davies_bouldin_score:  0.37822145529116735\n",
            "\n",
            "k:  8\n",
            "silhouette_score:  0.8035379702287133\n",
            "calinski_harabasz_score:  39759772.45720903\n",
            "davies_bouldin_score:  0.34010500863148563\n",
            "\n",
            "k:  9\n",
            "silhouette_score:  0.8033211475884791\n",
            "calinski_harabasz_score:  43540010.61329968\n",
            "davies_bouldin_score:  0.34967953087869147\n",
            "\n",
            "k:  10\n",
            "silhouette_score:  0.7970833049335014\n",
            "calinski_harabasz_score:  59537313.79020368\n",
            "davies_bouldin_score:  0.3568410380731604\n",
            "\n",
            "k:  11\n",
            "silhouette_score:  0.7972870183491215\n",
            "calinski_harabasz_score:  70543077.03289041\n",
            "davies_bouldin_score:  0.35117566660576327\n",
            "\n",
            "k:  12\n",
            "silhouette_score:  0.8150868858229823\n",
            "calinski_harabasz_score:  84880830.36271347\n",
            "davies_bouldin_score:  0.3644391408236028\n",
            "\n",
            "k:  13\n",
            "silhouette_score:  0.8159845703213799\n",
            "calinski_harabasz_score:  107194398.57054779\n",
            "davies_bouldin_score:  0.3634505120082503\n",
            "\n",
            "k:  14\n",
            "silhouette_score:  0.8168650968753993\n",
            "calinski_harabasz_score:  122075770.27592495\n",
            "davies_bouldin_score:  0.3754232825223801\n",
            "\n",
            "k:  15\n",
            "silhouette_score:  0.820928951396324\n",
            "calinski_harabasz_score:  132828071.22329511\n",
            "davies_bouldin_score:  0.3821760975705703\n",
            "\n",
            "k:  16\n",
            "silhouette_score:  0.8209354474837091\n",
            "calinski_harabasz_score:  133699037.8948841\n",
            "davies_bouldin_score:  0.3770137090630685\n",
            "\n",
            "k:  17\n",
            "silhouette_score:  0.8221890034239039\n",
            "calinski_harabasz_score:  144566796.5296117\n",
            "davies_bouldin_score:  0.37628222055176913\n",
            "\n",
            "k:  18\n",
            "silhouette_score:  0.8220346476569175\n",
            "calinski_harabasz_score:  149120459.41449726\n",
            "davies_bouldin_score:  0.4082728385219465\n",
            "\n",
            "k:  19\n",
            "silhouette_score:  0.8186824500085769\n",
            "calinski_harabasz_score:  163730312.11867264\n",
            "davies_bouldin_score:  0.4076192249795763\n",
            "\n"
          ]
        },
        {
          "output_type": "display_data",
          "data": {
            "text/plain": [
              "<Figure size 1200x600 with 3 Axes>"
            ],
            "image/png": "[encoded data removed]"
          },
          "metadata": {}
        }
      ]
    },
    {
      "cell_type": "markdown",
      "source": [
        "#Question A7"
      ],
      "metadata": {
        "id": "9Zaxa_w9frDF"
      },
      "id": "9Zaxa_w9frDF"
    },
    {
      "cell_type": "code",
      "source": [
        "#making an empty list to store the inertia of the clusters\n",
        "distorsions = []\n",
        "for k in range(2, 20):\n",
        "  kmeans = KMeans(n_clusters=k, n_init=\"auto\").fit(X_train)  #calling the kmeans clustering for different number of clusters\n",
        "  distorsions.append(kmeans.inertia_)\n",
        "print(distorsions)\n",
        "plt.plot(distorsions) #plotting the elbow curve"
      ],
      "metadata": {
        "colab": {
          "base_uri": "https://localhost:8080/",
          "height": 500
        },
        "id": "VlqDBLP6QOOM",
        "outputId": "c24a7bbd-52e0-489e-de51-b37a0f4cdf64"
      },
      "id": "VlqDBLP6QOOM",
      "execution_count": 147,
      "outputs": [
        {
          "output_type": "stream",
          "name": "stdout",
          "text": [
            "[81467953253.19775, 47076576052.96237, 23444903555.468864, 10640312344.651276, 6807848758.350525, 4593033294.136848, 4314276315.30893, 3285486921.4015517, 2040910206.56581, 1549132418.709384, 1194251526.4484713, 860582637.3506685, 669276225.1312559, 563672697.8049289, 542517219.8535705, 520612587.361139, 428592509.87211037, 352909495.7146203]\n"
          ]
        },
        {
          "output_type": "execute_result",
          "data": {
            "text/plain": [
              "[<matplotlib.lines.Line2D at 0x7b19158a8820>]"
            ]
          },
          "metadata": {},
          "execution_count": 147
        },
        {
          "output_type": "display_data",
          "data": {
            "text/plain": [
              "<Figure size 640x480 with 1 Axes>"
            ],
            "image/png": "[encoded data removed]"
          },
          "metadata": {}
        }
      ]
    }
  ],
  "metadata": {
    "kernelspec": {
      "display_name": "Python 3 (ipykernel)",
      "language": "python",
      "name": "python3"
    },
    "language_info": {
      "codemirror_mode": {
        "name": "ipython",
        "version": 3
      },
      "file_extension": ".py",
      "mimetype": "text/x-python",
      "name": "python",
      "nbconvert_exporter": "python",
      "pygments_lexer": "ipython3",
      "version": "3.11.4"
    },
    "colab": {
      "provenance": []
    }
  },
  "nbformat": 4,
  "nbformat_minor": 5
}